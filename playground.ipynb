{
 "cells": [
  {
   "cell_type": "code",
   "execution_count": 50,
   "id": "01cdc62c-528d-45a2-bcdf-d60ce3bfe1c9",
   "metadata": {},
   "outputs": [],
   "source": [
    "import csv\n",
    "import re"
   ]
  },
  {
   "cell_type": "code",
   "execution_count": 3,
   "id": "7e4b79a6-a25d-4806-8cbd-653568730674",
   "metadata": {},
   "outputs": [
    {
     "name": "stderr",
     "output_type": "stream",
     "text": [
      "/Users/facade/projects/irasutoya/.venv/lib/python3.9/site-packages/urllib3/__init__.py:35: NotOpenSSLWarning: urllib3 v2 only supports OpenSSL 1.1.1+, currently the 'ssl' module is compiled with 'LibreSSL 2.8.3'. See: https://github.com/urllib3/urllib3/issues/3020\n",
      "  warnings.warn(\n"
     ]
    }
   ],
   "source": [
    "import requests\n",
    "from bs4 import BeautifulSoup"
   ]
  },
  {
   "cell_type": "code",
   "execution_count": 25,
   "id": "0968ec97-560e-464d-bb7f-5fb51b69cc49",
   "metadata": {},
   "outputs": [],
   "source": [
    "USER_AGENT_CHROME = \"Mozilla/5.0 (Macintosh; Intel Mac OS X 10_15_7) AppleWebKit/537.36 (KHTML, like Gecko) Chrome/124.0.0.0 Safari/537.36\""
   ]
  },
  {
   "cell_type": "markdown",
   "id": "21268e7c-8cc1-4d02-92e2-95c70fb71d55",
   "metadata": {},
   "source": [
    "## 1. shousai_categories"
   ]
  },
  {
   "cell_type": "code",
   "execution_count": 17,
   "id": "4d614d24-3499-4862-b573-6de8ca18892c",
   "metadata": {},
   "outputs": [],
   "source": [
    "resp = requests.get(\"https://www.irasutoya.com/\")\n",
    "doc = BeautifulSoup(resp.content.decode('utf-8'), 'html.parser')"
   ]
  },
  {
   "cell_type": "code",
   "execution_count": 18,
   "id": "b8c4973f-73bb-42cc-abc9-9dea13e25d3a",
   "metadata": {
    "scrolled": true
   },
   "outputs": [
    {
     "name": "stdout",
     "output_type": "stream",
     "text": [
      "01 リクエスト: https://www.irasutoya.com/search/label/%E3%83%AA%E3%82%AF%E3%82%A8%E3%82%B9%E3%83%88\n",
      "02 こども: https://www.irasutoya.com/search/label/%E3%81%93%E3%81%A9%E3%82%82\n",
      "03 職業: https://www.irasutoya.com/search/label/%E8%81%B7%E6%A5%AD\n",
      "04 病気: https://www.irasutoya.com/search/label/%E7%97%85%E6%B0%97\n",
      "05 ポーズ: https://www.irasutoya.com/search/label/%E3%83%9D%E3%83%BC%E3%82%BA\n",
      "06 会社: https://www.irasutoya.com/search/label/%E4%BC%9A%E7%A4%BE\n",
      "07 お金: https://www.irasutoya.com/search/label/%E3%81%8A%E9%87%91\n",
      "08 道具: https://www.irasutoya.com/search/label/%E9%81%93%E5%85%B7\n",
      "09 ビジネス: https://www.irasutoya.com/search/label/%E3%83%93%E3%82%B8%E3%83%8D%E3%82%B9\n",
      "10 学校: https://www.irasutoya.com/search/label/%E5%AD%A6%E6%A0%A1\n",
      "11 ファッション: https://www.irasutoya.com/search/label/%E3%83%95%E3%82%A1%E3%83%83%E3%82%B7%E3%83%A7%E3%83%B3\n",
      "12 医療: https://www.irasutoya.com/search/label/%E5%8C%BB%E7%99%82\n",
      "13 事故: https://www.irasutoya.com/search/label/%E4%BA%8B%E6%95%85\n",
      "14 違反: https://www.irasutoya.com/search/label/%E9%81%95%E5%8F%8D\n",
      "15 食べ物: https://www.irasutoya.com/search/label/%E9%A3%9F%E3%81%B9%E7%89%A9\n",
      "16 趣味: https://www.irasutoya.com/search/label/%E8%B6%A3%E5%91%B3\n",
      "17 スポーツ: https://www.irasutoya.com/search/label/%E3%82%B9%E3%83%9D%E3%83%BC%E3%83%84\n",
      "18 建物: https://www.irasutoya.com/search/label/%E5%BB%BA%E7%89%A9\n",
      "19 スイーツ: https://www.irasutoya.com/search/label/%E3%82%B9%E3%82%A4%E3%83%BC%E3%83%84\n",
      "20 旅行: https://www.irasutoya.com/search/label/%E6%97%85%E8%A1%8C\n",
      "21 おもちゃ: https://www.irasutoya.com/search/label/%E3%81%8A%E3%82%82%E3%81%A1%E3%82%83\n",
      "22 家電: https://www.irasutoya.com/search/label/%E5%AE%B6%E9%9B%BB\n",
      "23 家族: https://www.irasutoya.com/search/label/%E5%AE%B6%E6%97%8F\n",
      "24 文字: https://www.irasutoya.com/search/label/%E6%96%87%E5%AD%97\n",
      "25 キャラクター: https://www.irasutoya.com/search/label/%E3%82%AD%E3%83%A3%E3%83%A9%E3%82%AF%E3%82%BF%E3%83%BC\n",
      "26 料理: https://www.irasutoya.com/search/label/%E6%96%99%E7%90%86\n",
      "27 動物キャラ: https://www.irasutoya.com/search/label/%E5%8B%95%E7%89%A9%E3%82%AD%E3%83%A3%E3%83%A9\n",
      "28 医療機器: https://www.irasutoya.com/search/label/%E5%8C%BB%E7%99%82%E6%A9%9F%E5%99%A8\n",
      "29 機械: https://www.irasutoya.com/search/label/%E6%A9%9F%E6%A2%B0\n",
      "30 マーク: https://www.irasutoya.com/search/label/%E3%83%9E%E3%83%BC%E3%82%AF\n",
      "31 ショッピング: https://www.irasutoya.com/search/label/%E3%82%B7%E3%83%A7%E3%83%83%E3%83%94%E3%83%B3%E3%82%B0\n",
      "32 飲み物: https://www.irasutoya.com/search/label/%E9%A3%B2%E3%81%BF%E7%89%A9\n",
      "33 音楽: https://www.irasutoya.com/search/label/%E9%9F%B3%E6%A5%BD\n",
      "34 日本: https://www.irasutoya.com/search/label/%E6%97%A5%E6%9C%AC\n",
      "35 車: https://www.irasutoya.com/search/label/%E8%BB%8A\n",
      "36 コンピューター: https://www.irasutoya.com/search/label/%E3%82%B3%E3%83%B3%E3%83%94%E3%83%A5%E3%83%BC%E3%82%BF%E3%83%BC\n",
      "37 パーティ: https://www.irasutoya.com/search/label/%E3%83%91%E3%83%BC%E3%83%86%E3%82%A3\n",
      "38 家具: https://www.irasutoya.com/search/label/%E5%AE%B6%E5%85%B7\n",
      "39 スマートフォン: https://www.irasutoya.com/search/label/%E3%82%B9%E3%83%9E%E3%83%BC%E3%83%88%E3%83%95%E3%82%A9%E3%83%B3\n",
      "40 老人: https://www.irasutoya.com/search/label/%E8%80%81%E4%BA%BA\n",
      "41 マナー: https://www.irasutoya.com/search/label/%E3%83%9E%E3%83%8A%E3%83%BC\n",
      "42 食事: https://www.irasutoya.com/search/label/%E9%A3%9F%E4%BA%8B\n",
      "43 乗り物: https://www.irasutoya.com/search/label/%E4%B9%97%E3%82%8A%E7%89%A9\n",
      "44 動物: https://www.irasutoya.com/search/label/%E5%8B%95%E7%89%A9\n",
      "45 若者: https://www.irasutoya.com/search/label/%E8%8B%A5%E8%80%85\n",
      "46 生活: https://www.irasutoya.com/search/label/%E7%94%9F%E6%B4%BB\n",
      "47 友達: https://www.irasutoya.com/search/label/%E5%8F%8B%E9%81%94\n",
      "48 インターネット: https://www.irasutoya.com/search/label/%E3%82%A4%E3%83%B3%E3%82%BF%E3%83%BC%E3%83%8D%E3%83%83%E3%83%88\n",
      "49 夏: https://www.irasutoya.com/search/label/%E5%A4%8F\n",
      "50 魚: https://www.irasutoya.com/search/label/%E9%AD%9A\n",
      "51 軽食: https://www.irasutoya.com/search/label/%E8%BB%BD%E9%A3%9F\n",
      "52 災害: https://www.irasutoya.com/search/label/%E7%81%BD%E5%AE%B3\n",
      "53 野菜: https://www.irasutoya.com/search/label/%E9%87%8E%E8%8F%9C\n",
      "54 人体: https://www.irasutoya.com/search/label/%E4%BA%BA%E4%BD%93\n",
      "55 受験: https://www.irasutoya.com/search/label/%E5%8F%97%E9%A8%93\n",
      "56 運動: https://www.irasutoya.com/search/label/%E9%81%8B%E5%8B%95\n",
      "57 恋愛: https://www.irasutoya.com/search/label/%E6%81%8B%E6%84%9B\n",
      "58 冬: https://www.irasutoya.com/search/label/%E5%86%AC\n",
      "59 科学: https://www.irasutoya.com/search/label/%E7%A7%91%E5%AD%A6\n",
      "60 お正月: https://www.irasutoya.com/search/label/%E3%81%8A%E6%AD%A3%E6%9C%88\n",
      "61 美術: https://www.irasutoya.com/search/label/%E7%BE%8E%E8%A1%93\n",
      "62 掃除: https://www.irasutoya.com/search/label/%E6%8E%83%E9%99%A4\n",
      "63 表情: https://www.irasutoya.com/search/label/%E8%A1%A8%E6%83%85\n",
      "64 似顔絵: https://www.irasutoya.com/search/label/%E4%BC%BC%E9%A1%94%E7%B5%B5\n",
      "65 ペット: https://www.irasutoya.com/search/label/%E3%83%9A%E3%83%83%E3%83%88\n",
      "66 睡眠: https://www.irasutoya.com/search/label/%E7%9D%A1%E7%9C%A0\n",
      "67 美容: https://www.irasutoya.com/search/label/%E7%BE%8E%E5%AE%B9\n",
      "68 戦争: https://www.irasutoya.com/search/label/%E6%88%A6%E4%BA%89\n",
      "69 世界: https://www.irasutoya.com/search/label/%E4%B8%96%E7%95%8C\n",
      "70 本: https://www.irasutoya.com/search/label/%E6%9C%AC\n",
      "71 風景: https://www.irasutoya.com/search/label/%E9%A2%A8%E6%99%AF\n",
      "72 ファンタジー: https://www.irasutoya.com/search/label/%E3%83%95%E3%82%A1%E3%83%B3%E3%82%BF%E3%82%B8%E3%83%BC\n",
      "73 就活: https://www.irasutoya.com/search/label/%E5%B0%B1%E6%B4%BB\n",
      "74 犬: https://www.irasutoya.com/search/label/%E7%8A%AC\n",
      "75 虫: https://www.irasutoya.com/search/label/%E8%99%AB\n",
      "76 花: https://www.irasutoya.com/search/label/%E8%8A%B1\n",
      "77 あかちゃん: https://www.irasutoya.com/search/label/%E3%81%82%E3%81%8B%E3%81%A1%E3%82%83%E3%82%93\n",
      "78 植物: https://www.irasutoya.com/search/label/%E6%A4%8D%E7%89%A9\n",
      "79 鳥: https://www.irasutoya.com/search/label/%E9%B3%A5\n",
      "80 海: https://www.irasutoya.com/search/label/%E6%B5%B7\n",
      "81 文房具: https://www.irasutoya.com/search/label/%E6%96%87%E6%88%BF%E5%85%B7\n",
      "82 食材: https://www.irasutoya.com/search/label/%E9%A3%9F%E6%9D%90\n",
      "83 お風呂: https://www.irasutoya.com/search/label/%E3%81%8A%E9%A2%A8%E5%91%82\n",
      "84 フルーツ: https://www.irasutoya.com/search/label/%E3%83%95%E3%83%AB%E3%83%BC%E3%83%84\n",
      "85 お年賀状: https://www.irasutoya.com/search/label/%E3%81%8A%E5%B9%B4%E8%B3%80%E7%8A%B6\n",
      "86 マスク: https://www.irasutoya.com/search/label/%E3%83%9E%E3%82%B9%E3%82%AF\n",
      "87 調味料: https://www.irasutoya.com/search/label/%E8%AA%BF%E5%91%B3%E6%96%99\n",
      "88 猫: https://www.irasutoya.com/search/label/%E7%8C%AB\n",
      "89 物語: https://www.irasutoya.com/search/label/%E7%89%A9%E8%AA%9E\n",
      "90 介護: https://www.irasutoya.com/search/label/%E4%BB%8B%E8%AD%B7\n",
      "91 南国: https://www.irasutoya.com/search/label/%E5%8D%97%E5%9B%BD\n",
      "92 ウェディング: https://www.irasutoya.com/search/label/%E3%82%A6%E3%82%A7%E3%83%87%E3%82%A3%E3%83%B3%E3%82%B0\n",
      "93 ランドマーク: https://www.irasutoya.com/search/label/%E3%83%A9%E3%83%B3%E3%83%89%E3%83%9E%E3%83%BC%E3%82%AF\n",
      "94 干支: https://www.irasutoya.com/search/label/%E5%B9%B2%E6%94%AF\n",
      "95 環境問題: https://www.irasutoya.com/search/label/%E7%92%B0%E5%A2%83%E5%95%8F%E9%A1%8C\n",
      "96 髪: https://www.irasutoya.com/search/label/%E9%AB%AA\n",
      "97 スポーツ用具: https://www.irasutoya.com/search/label/%E3%82%B9%E3%83%9D%E3%83%BC%E3%83%84%E7%94%A8%E5%85%B7\n",
      "98 書類: https://www.irasutoya.com/search/label/%E6%9B%B8%E9%A1%9E\n",
      "99 クリスマス: https://www.irasutoya.com/search/label/%E3%82%AF%E3%83%AA%E3%82%B9%E3%83%9E%E3%82%B9\n",
      "100 夏休み: https://www.irasutoya.com/search/label/%E5%A4%8F%E4%BC%91%E3%81%BF\n",
      "101 怪我: https://www.irasutoya.com/search/label/%E6%80%AA%E6%88%91\n",
      "102 テンプレート: https://www.irasutoya.com/search/label/%E3%83%86%E3%83%B3%E3%83%97%E3%83%AC%E3%83%BC%E3%83%88\n",
      "103 メディア: https://www.irasutoya.com/search/label/%E3%83%A1%E3%83%87%E3%82%A3%E3%82%A2\n",
      "104 食器: https://www.irasutoya.com/search/label/%E9%A3%9F%E5%99%A8\n",
      "105 お祭り: https://www.irasutoya.com/search/label/%E3%81%8A%E7%A5%AD%E3%82%8A\n",
      "106 中年: https://www.irasutoya.com/search/label/%E4%B8%AD%E5%B9%B4\n",
      "107 座布団: https://www.irasutoya.com/search/label/%E5%BA%A7%E5%B8%83%E5%9B%A3\n",
      "108 政治: https://www.irasutoya.com/search/label/%E6%94%BF%E6%B2%BB\n",
      "109 映画: https://www.irasutoya.com/search/label/%E6%98%A0%E7%94%BB\n",
      "110 メッセージ: https://www.irasutoya.com/search/label/%E3%83%A1%E3%83%83%E3%82%BB%E3%83%BC%E3%82%B8\n",
      "111 電車: https://www.irasutoya.com/search/label/%E9%9B%BB%E8%BB%8A\n",
      "112 ゴミ: https://www.irasutoya.com/search/label/%E3%82%B4%E3%83%9F\n",
      "113 楽器: https://www.irasutoya.com/search/label/%E6%A5%BD%E5%99%A8\n",
      "114 宗教: https://www.irasutoya.com/search/label/%E5%AE%97%E6%95%99\n",
      "115 パン: https://www.irasutoya.com/search/label/%E3%83%91%E3%83%B3\n",
      "116 幼稚園: https://www.irasutoya.com/search/label/%E5%B9%BC%E7%A8%9A%E5%9C%92\n",
      "117 エネルギー: https://www.irasutoya.com/search/label/%E3%82%A8%E3%83%8D%E3%83%AB%E3%82%AE%E3%83%BC\n",
      "118 引越し: https://www.irasutoya.com/search/label/%E5%BC%95%E8%B6%8A%E3%81%97\n",
      "119 自転車: https://www.irasutoya.com/search/label/%E8%87%AA%E8%BB%A2%E8%BB%8A\n",
      "120 オリンピック: https://www.irasutoya.com/search/label/%E3%82%AA%E3%83%AA%E3%83%B3%E3%83%94%E3%83%83%E3%82%AF\n",
      "121 飾り: https://www.irasutoya.com/search/label/%E9%A3%BE%E3%82%8A\n",
      "122 お寿司: https://www.irasutoya.com/search/label/%E3%81%8A%E5%AF%BF%E5%8F%B8\n",
      "123 農業: https://www.irasutoya.com/search/label/%E8%BE%B2%E6%A5%AD\n",
      "124 POP: https://www.irasutoya.com/search/label/POP\n",
      "125 食べ物キャラ: https://www.irasutoya.com/search/label/%E9%A3%9F%E3%81%B9%E7%89%A9%E3%82%AD%E3%83%A3%E3%83%A9\n",
      "126 ダンス: https://www.irasutoya.com/search/label/%E3%83%80%E3%83%B3%E3%82%B9\n",
      "127 体育: https://www.irasutoya.com/search/label/%E4%BD%93%E8%82%B2\n",
      "128 棒人間: https://www.irasutoya.com/search/label/%E6%A3%92%E4%BA%BA%E9%96%93\n",
      "129 メタボリック: https://www.irasutoya.com/search/label/%E3%83%A1%E3%82%BF%E3%83%9C%E3%83%AA%E3%83%83%E3%82%AF\n",
      "130 お葬式: https://www.irasutoya.com/search/label/%E3%81%8A%E8%91%AC%E5%BC%8F\n",
      "131 周辺機器: https://www.irasutoya.com/search/label/%E5%91%A8%E8%BE%BA%E6%A9%9F%E5%99%A8\n",
      "132 梅雨: https://www.irasutoya.com/search/label/%E6%A2%85%E9%9B%A8\n",
      "133 思い出: https://www.irasutoya.com/search/label/%E6%80%9D%E3%81%84%E5%87%BA\n",
      "134 歯: https://www.irasutoya.com/search/label/%E6%AD%AF\n",
      "135 集合: https://www.irasutoya.com/search/label/%E9%9B%86%E5%90%88\n",
      "136 運動会: https://www.irasutoya.com/search/label/%E9%81%8B%E5%8B%95%E4%BC%9A\n",
      "137 春: https://www.irasutoya.com/search/label/%E6%98%A5\n",
      "138 室内: https://www.irasutoya.com/search/label/%E5%AE%A4%E5%86%85\n",
      "139 カフェ: https://www.irasutoya.com/search/label/%E3%82%AB%E3%83%95%E3%82%A7\n",
      "140 お誕生日: https://www.irasutoya.com/search/label/%E3%81%8A%E8%AA%95%E7%94%9F%E6%97%A5\n",
      "141 英語: https://www.irasutoya.com/search/label/%E8%8B%B1%E8%AA%9E\n",
      "142 流通: https://www.irasutoya.com/search/label/%E6%B5%81%E9%80%9A\n",
      "143 宇宙: https://www.irasutoya.com/search/label/%E5%AE%87%E5%AE%99\n",
      "144 サッカー: https://www.irasutoya.com/search/label/%E3%82%B5%E3%83%83%E3%82%AB%E3%83%BC\n",
      "145 バレンタイン: https://www.irasutoya.com/search/label/%E3%83%90%E3%83%AC%E3%83%B3%E3%82%BF%E3%82%A4%E3%83%B3\n",
      "146 野球: https://www.irasutoya.com/search/label/%E9%87%8E%E7%90%83\n",
      "147 吹奏楽: https://www.irasutoya.com/search/label/%E5%90%B9%E5%A5%8F%E6%A5%BD\n",
      "148 トイレ: https://www.irasutoya.com/search/label/%E3%83%88%E3%82%A4%E3%83%AC\n",
      "149 秋: https://www.irasutoya.com/search/label/%E7%A7%8B\n",
      "150 歌: https://www.irasutoya.com/search/label/%E6%AD%8C\n",
      "151 卒業式: https://www.irasutoya.com/search/label/%E5%8D%92%E6%A5%AD%E5%BC%8F\n",
      "152 健康診断: https://www.irasutoya.com/search/label/%E5%81%A5%E5%BA%B7%E8%A8%BA%E6%96%AD\n",
      "153 爬虫類両生類: https://www.irasutoya.com/search/label/%E7%88%AC%E8%99%AB%E9%A1%9E%E4%B8%A1%E7%94%9F%E9%A1%9E\n",
      "154 フレーム: https://www.irasutoya.com/search/label/%E3%83%95%E3%83%AC%E3%83%BC%E3%83%A0\n",
      "155 新社会人: https://www.irasutoya.com/search/label/%E6%96%B0%E7%A4%BE%E4%BC%9A%E4%BA%BA\n",
      "156 夏バテ: https://www.irasutoya.com/search/label/%E5%A4%8F%E3%83%90%E3%83%86\n",
      "157 天気: https://www.irasutoya.com/search/label/%E5%A4%A9%E6%B0%97\n",
      "158 洗濯: https://www.irasutoya.com/search/label/%E6%B4%97%E6%BF%AF\n",
      "159 ハロウィン: https://www.irasutoya.com/search/label/%E3%83%8F%E3%83%AD%E3%82%A6%E3%82%A3%E3%83%B3\n",
      "160 お弁当: https://www.irasutoya.com/search/label/%E3%81%8A%E5%BC%81%E5%BD%93\n",
      "161 ぴょこ: https://www.irasutoya.com/search/label/%E3%81%B4%E3%82%87%E3%81%93\n",
      "162 文化祭: https://www.irasutoya.com/search/label/%E6%96%87%E5%8C%96%E7%A5%AD\n",
      "163 ライン: https://www.irasutoya.com/search/label/%E3%83%A9%E3%82%A4%E3%83%B3\n",
      "164 古代生物: https://www.irasutoya.com/search/label/%E5%8F%A4%E4%BB%A3%E7%94%9F%E7%89%A9\n",
      "165 ゴールデンウィーク: https://www.irasutoya.com/search/label/%E3%82%B4%E3%83%BC%E3%83%AB%E3%83%87%E3%83%B3%E3%82%A6%E3%82%A3%E3%83%BC%E3%82%AF\n",
      "166 深海: https://www.irasutoya.com/search/label/%E6%B7%B1%E6%B5%B7\n",
      "167 漁業: https://www.irasutoya.com/search/label/%E6%BC%81%E6%A5%AD\n",
      "168 貝: https://www.irasutoya.com/search/label/%E8%B2%9D\n",
      "169 あいさつ: https://www.irasutoya.com/search/label/%E3%81%82%E3%81%84%E3%81%95%E3%81%A4\n",
      "170 裁縫: https://www.irasutoya.com/search/label/%E8%A3%81%E7%B8%AB\n",
      "171 人体キャラ: https://www.irasutoya.com/search/label/%E4%BA%BA%E4%BD%93%E3%82%AD%E3%83%A3%E3%83%A9\n",
      "172 お花見: https://www.irasutoya.com/search/label/%E3%81%8A%E8%8A%B1%E8%A6%8B\n",
      "173 世代: https://www.irasutoya.com/search/label/%E4%B8%96%E4%BB%A3\n",
      "174 地図: https://www.irasutoya.com/search/label/%E5%9C%B0%E5%9B%B3\n",
      "175 こども職業: https://www.irasutoya.com/search/label/%E3%81%93%E3%81%A9%E3%82%82%E8%81%B7%E6%A5%AD\n",
      "176 甲殻類: https://www.irasutoya.com/search/label/%E7%94%B2%E6%AE%BB%E9%A1%9E\n",
      "177 仏像: https://www.irasutoya.com/search/label/%E4%BB%8F%E5%83%8F\n",
      "178 花火: https://www.irasutoya.com/search/label/%E8%8A%B1%E7%81%AB\n",
      "179 年の瀬: https://www.irasutoya.com/search/label/%E5%B9%B4%E3%81%AE%E7%80%AC\n",
      "180 初詣: https://www.irasutoya.com/search/label/%E5%88%9D%E8%A9%A3\n",
      "181 新学期: https://www.irasutoya.com/search/label/%E6%96%B0%E5%AD%A6%E6%9C%9F\n",
      "182 スープ: https://www.irasutoya.com/search/label/%E3%82%B9%E3%83%BC%E3%83%97\n",
      "183 給食: https://www.irasutoya.com/search/label/%E7%B5%A6%E9%A3%9F\n",
      "184 地域キャラ: https://www.irasutoya.com/search/label/%E5%9C%B0%E5%9F%9F%E3%82%AD%E3%83%A3%E3%83%A9\n",
      "185 音楽家: https://www.irasutoya.com/search/label/%E9%9F%B3%E6%A5%BD%E5%AE%B6\n",
      "186 入学式: https://www.irasutoya.com/search/label/%E5%85%A5%E5%AD%A6%E5%BC%8F\n",
      "187 忘年会: https://www.irasutoya.com/search/label/%E5%BF%98%E5%B9%B4%E4%BC%9A\n",
      "188 恐竜: https://www.irasutoya.com/search/label/%E6%81%90%E7%AB%9C\n",
      "189 禁止: https://www.irasutoya.com/search/label/%E7%A6%81%E6%AD%A2\n",
      "190 紅葉: https://www.irasutoya.com/search/label/%E7%B4%85%E8%91%89\n",
      "191 こどもの日: https://www.irasutoya.com/search/label/%E3%81%93%E3%81%A9%E3%82%82%E3%81%AE%E6%97%A5\n",
      "192 林業: https://www.irasutoya.com/search/label/%E6%9E%97%E6%A5%AD\n",
      "193 VR: https://www.irasutoya.com/search/label/VR\n",
      "194 人工知能: https://www.irasutoya.com/search/label/%E4%BA%BA%E5%B7%A5%E7%9F%A5%E8%83%BD\n",
      "195 父の日: https://www.irasutoya.com/search/label/%E7%88%B6%E3%81%AE%E6%97%A5\n",
      "196 忍者: https://www.irasutoya.com/search/label/%E5%BF%8D%E8%80%85\n",
      "197 祝日: https://www.irasutoya.com/search/label/%E7%A5%9D%E6%97%A5\n",
      "198 日焼け: https://www.irasutoya.com/search/label/%E6%97%A5%E7%84%BC%E3%81%91\n",
      "199 母の日: https://www.irasutoya.com/search/label/%E6%AF%8D%E3%81%AE%E6%97%A5\n",
      "200 節分: https://www.irasutoya.com/search/label/%E7%AF%80%E5%88%86\n",
      "201 書道: https://www.irasutoya.com/search/label/%E6%9B%B8%E9%81%93\n",
      "202 クジライルカ: https://www.irasutoya.com/search/label/%E3%82%AF%E3%82%B8%E3%83%A9%E3%82%A4%E3%83%AB%E3%82%AB\n",
      "203 LGBT: https://www.irasutoya.com/search/label/LGBT\n",
      "204 ヨガ: https://www.irasutoya.com/search/label/%E3%83%A8%E3%82%AC\n",
      "205 動物の顔: https://www.irasutoya.com/search/label/%E5%8B%95%E7%89%A9%E3%81%AE%E9%A1%94\n",
      "206 パラリンピック: https://www.irasutoya.com/search/label/%E3%83%91%E3%83%A9%E3%83%AA%E3%83%B3%E3%83%94%E3%83%83%E3%82%AF\n",
      "207 ペンギン: https://www.irasutoya.com/search/label/%E3%83%9A%E3%83%B3%E3%82%AE%E3%83%B3\n",
      "208 大晦日: https://www.irasutoya.com/search/label/%E5%A4%A7%E6%99%A6%E6%97%A5\n",
      "209 乗り物キャラ: https://www.irasutoya.com/search/label/%E4%B9%97%E3%82%8A%E7%89%A9%E3%82%AD%E3%83%A3%E3%83%A9\n",
      "210 おにぎり: https://www.irasutoya.com/search/label/%E3%81%8A%E3%81%AB%E3%81%8E%E3%82%8A\n",
      "211 ことわざ: https://www.irasutoya.com/search/label/%E3%81%93%E3%81%A8%E3%82%8F%E3%81%96\n",
      "212 七夕: https://www.irasutoya.com/search/label/%E4%B8%83%E5%A4%95\n",
      "213 ホワイトデー: https://www.irasutoya.com/search/label/%E3%83%9B%E3%83%AF%E3%82%A4%E3%83%88%E3%83%87%E3%83%BC\n",
      "214 陸上: https://www.irasutoya.com/search/label/%E9%99%B8%E4%B8%8A\n",
      "215 暑中見舞い: https://www.irasutoya.com/search/label/%E6%9A%91%E4%B8%AD%E8%A6%8B%E8%88%9E%E3%81%84\n",
      "216 野菜の切り方: https://www.irasutoya.com/search/label/%E9%87%8E%E8%8F%9C%E3%81%AE%E5%88%87%E3%82%8A%E6%96%B9\n",
      "217 星座: https://www.irasutoya.com/search/label/%E6%98%9F%E5%BA%A7\n",
      "218 ワンピース: https://www.irasutoya.com/search/label/%E3%83%AF%E3%83%B3%E3%83%94%E3%83%BC%E3%82%B9\n",
      "219 成人式: https://www.irasutoya.com/search/label/%E6%88%90%E4%BA%BA%E5%BC%8F\n",
      "220 ゆめかわ: https://www.irasutoya.com/search/label/%E3%82%86%E3%82%81%E3%81%8B%E3%82%8F\n",
      "221 敬老の日: https://www.irasutoya.com/search/label/%E6%95%AC%E8%80%81%E3%81%AE%E6%97%A5\n",
      "222 ひな祭り: https://www.irasutoya.com/search/label/%E3%81%B2%E3%81%AA%E7%A5%AD%E3%82%8A\n",
      "223 お月見: https://www.irasutoya.com/search/label/%E3%81%8A%E6%9C%88%E8%A6%8B\n",
      "224 パターン: https://www.irasutoya.com/search/label/%E3%83%91%E3%82%BF%E3%83%BC%E3%83%B3\n",
      "225 アマビエ: https://www.irasutoya.com/search/label/%E3%82%A2%E3%83%9E%E3%83%93%E3%82%A8\n",
      "226 伝言メモ: https://www.irasutoya.com/search/label/%E4%BC%9D%E8%A8%80%E3%83%A1%E3%83%A2\n",
      "227 顔アイコン: https://www.irasutoya.com/search/label/%E9%A1%94%E3%82%A2%E3%82%A4%E3%82%B3%E3%83%B3\n",
      "228 イースター: https://www.irasutoya.com/search/label/%E3%82%A4%E3%83%BC%E3%82%B9%E3%82%BF%E3%83%BC\n",
      "229 勤労感謝の日: https://www.irasutoya.com/search/label/%E5%8B%A4%E5%8A%B4%E6%84%9F%E8%AC%9D%E3%81%AE%E6%97%A5\n",
      "230 一筆箋: https://www.irasutoya.com/search/label/%E4%B8%80%E7%AD%86%E7%AE%8B\n",
      "231 国旗: https://www.irasutoya.com/search/label/%E5%9B%BD%E6%97%97\n",
      "232 トランプ: https://www.irasutoya.com/search/label/%E3%83%88%E3%83%A9%E3%83%B3%E3%83%97\n",
      "233 七五三: https://www.irasutoya.com/search/label/%E4%B8%83%E4%BA%94%E4%B8%89\n",
      "234 書体: https://www.irasutoya.com/search/label/%E6%9B%B8%E4%BD%93\n",
      "235 メッセージカード: https://www.irasutoya.com/search/label/%E3%83%A1%E3%83%83%E3%82%BB%E3%83%BC%E3%82%B8%E3%82%AB%E3%83%BC%E3%83%89\n",
      "236 エイプリルフール: https://www.irasutoya.com/search/label/%E3%82%A8%E3%82%A4%E3%83%97%E3%83%AA%E3%83%AB%E3%83%95%E3%83%BC%E3%83%AB\n",
      "237 国旗まとめ: https://www.irasutoya.com/search/label/%E5%9B%BD%E6%97%97%E3%81%BE%E3%81%A8%E3%82%81\n",
      "238 ペンキ書体: https://www.irasutoya.com/search/label/%E3%83%9A%E3%83%B3%E3%82%AD%E6%9B%B8%E4%BD%93\n",
      "239 白抜き書体: https://www.irasutoya.com/search/label/%E7%99%BD%E6%8A%9C%E3%81%8D%E6%9B%B8%E4%BD%93\n",
      "240 宣伝: https://www.irasutoya.com/search/label/%E5%AE%A3%E4%BC%9D\n"
     ]
    }
   ],
   "source": [
    "cont = doc.select_one(\"#sidebar-wrapper #sidebar #Label1\")\n",
    "if getattr(cont.select_one(\":scope > h2\"), 'text') != \"詳細カテゴリー\":\n",
    "    raise ValueError(\"詳細カテゴリー header not found\")\n",
    "\n",
    "shousai_cates = []\n",
    "for i, e in enumerate(cont.select(\":scope > .widget-content.list-label-widget-content > ul > li\")):\n",
    "    a = e.select_one(\":scope > a\")\n",
    "    if not a or a.attrs.get('dir') != 'ltr':\n",
    "        raise ValueError(\"Unexpected list item: '{}'\".format(e))\n",
    "    url = a['href']\n",
    "    scate = a.text\n",
    "\n",
    "    shousai_cates.append({\n",
    "        'url': url,\n",
    "        'name': scate,\n",
    "    })\n",
    "    print(\"{:02d} {}: {}\".format(i+1, scate, url))\n",
    "    "
   ]
  },
  {
   "cell_type": "code",
   "execution_count": null,
   "id": "fa7278f5-9f19-46f8-b84a-8e5ec8829b01",
   "metadata": {},
   "outputs": [],
   "source": []
  },
  {
   "cell_type": "markdown",
   "id": "a17a4e00-aa30-480e-8e0c-5103abf2d1d0",
   "metadata": {},
   "source": [
    "## 2. irasuto_lists"
   ]
  },
  {
   "cell_type": "code",
   "execution_count": 86,
   "id": "7042f6ce-f8b8-447e-9d67-d352f7e45975",
   "metadata": {},
   "outputs": [],
   "source": [
    "resp = requests.get(\"https://www.irasutoya.com/search/label/%E5%8D%97%E5%9B%BD\",\n",
    "                   headers={'User-Agent': USER_AGENT_CHROME,\n",
    "                           'Accept': \"text/html,application/xhtml+xml,application/xml;q=0.9,image/avif,image/webp,image/apng,*/*;q=0.8\"}) # 南国\n",
    "doc = BeautifulSoup(resp.content.decode('utf-8'), 'html.parser')"
   ]
  },
  {
   "cell_type": "code",
   "execution_count": 87,
   "id": "7318bab7-3454-4de3-9e96-883bcc7df25e",
   "metadata": {
    "scrolled": true
   },
   "outputs": [
    {
     "name": "stdout",
     "output_type": "stream",
     "text": [
      "#content= 20\n",
      "1 フランキーのイラスト（ONE PIECE） (https://www.irasutoya.com/2021/01/franky.html thumb=https://blogger.googleusercontent.com/img/b/R29vZ2xl/AVvXsEibyeQ970m83yM43EI4t_wfvMdgoP_wqk6pkG8OiwxUJxxqVqPxq8o1pcQaphSepqt2oM1P5cmxTAlhpJRmt3_0JuYKNggM5qIdNFQwzp0RP8xqEzglhuYTIrG-9aBB-fm2iXT_Qejf5rUJ/s72-c/onepiece08_franky.png)\n",
      "2 沖縄の獅子舞のイラスト (https://www.irasutoya.com/2020/08/blog-post_82.html thumb=https://blogger.googleusercontent.com/img/b/R29vZ2xl/AVvXsEjPQcZhtdpATCFpsEbaTPLmjmqWgsTC119dqK6jttF5nsEkRIOOD13GdoxkxM6XQboJqRoEQ9ZDVTiktVBa9Cxv-YhfS1Y4a1NZH1BL4rG96eX5Gy0qW4ag_mcYMp65zMtFouH_FmB-ibVN/s72-c/okinawa_shishimai.png)\n",
      "3 半分に割れたココナッツのイラスト (https://www.irasutoya.com/2020/06/blog-post_31.html thumb=https://blogger.googleusercontent.com/img/b/R29vZ2xl/AVvXsEhoVm07WHBlDyQdQR-RJDPzZQtEin3_O8_Rq_fr-zpJWdCR-iTwLs2wzfyyXLEz9cBPEa2VnwzRBfnUug3LgZnKZrEJzS54C_SwN255VI1vAbBNB6d3Abev18P5bESkdGYp0KRtlCPq7t__/s72-c/fruit_coconut_half.png)\n",
      "4 ココナッツのイラスト (https://www.irasutoya.com/2020/06/blog-post_424.html thumb=https://blogger.googleusercontent.com/img/b/R29vZ2xl/AVvXsEiebnXZ54kebNju2Rrq_UKekA-gb1qiGlKegAEVVjiGZE0uy8rzIdo6TbsZZWNhST157x3Np1NB6vKhrmoM72voOALoYged0dCxYzhbDx2ifqU3Lphs4v5Ul25gsWWpB5fN2zasVfUjI5Mc/s72-c/fruit_coconut.png)\n",
      "5 エリザベスウミウシのイラスト (https://www.irasutoya.com/2020/01/blog-post_97.html thumb=https://blogger.googleusercontent.com/img/b/R29vZ2xl/AVvXsEjoSECf_vuAGIFj_mILTEMuFBekJV1h3WVYF8u_TZw5JODPfe3F4zhSBLmg9MBUL5ixRVgi4fv-f5hZrOfNq89C5Bj5dgZBZSKLRmlGC_2xUp-jbdZAluWe7fRj87ZtTJVecIFXeOiK0YSO/s72-c/umiushi_elizabeth.png)\n",
      "6 いろいろなヤシの木のイラスト (https://www.irasutoya.com/2019/12/blog-post_57.html thumb=https://blogger.googleusercontent.com/img/b/R29vZ2xl/AVvXsEgugVKylh-w4U_kB1vUoPKFDWKlSDc5hYVKD4aBBotnUjBi3_PGhysYW2Iq-OC1CVda3DLkrskoBDoS13ylw_mio5US3Nr7UMjNXmtT0RAX8-5zO4Slg3hmWrM4LGRBCbFgY2fn68S0OEhH/s72-c/thumbnail_tree_yashinoki.jpg)\n",
      "7 マンジュウイシモチのイラスト (https://www.irasutoya.com/2019/09/blog-post_918.html thumb=https://blogger.googleusercontent.com/img/b/R29vZ2xl/AVvXsEiTLGckQGBiWVa5V2Jw0aYlOslXYWBijbg827ZLX1tYQFJDyDtBWmdH4MX7XO39Vj5mO1NRRmBOFP03RnaF-1ZVT2fiQJn2aoQIaJvN7GPZnlhzZ9xFfu7wO-LyhrbAUx8hauU4xh2Aw3v3/s72-c/fish_manju_ishimochi.png)\n",
      "8 ヤシの木とハンモックのイラスト（女性） (https://www.irasutoya.com/2019/09/blog-post_16.html thumb=https://blogger.googleusercontent.com/img/b/R29vZ2xl/AVvXsEhseIfpXv2Nj_tKSjSdByUBgYO8DwD0rob7eEkfzUH2ThiXwxwBW1i1lKkysg9eHSGM19_DV2QiYghX9uOfiublX8SalSyQhMSHxfIAzRVNZo9odTbeD2om6LGKsO5iRVaoFyVvVhe7l11j/s72-c/hammock_yashinoki_woman.png)\n",
      "9 ヤシの木とハンモックのイラスト（男性） (https://www.irasutoya.com/2019/09/blog-post_94.html thumb=https://blogger.googleusercontent.com/img/b/R29vZ2xl/AVvXsEhpa21362bNocst7wbLiG6GwRPjz7nIu_GEqoiUN3vZPtCdazxZjDvp6j6swPVEsmgpp4oQGH5mwll0f3OxO_buuVjP1iqen0BllutTgpaTA18uooLp0CMy0OdaJ8U_43zeQEzqJWa0WYXz/s72-c/hammock_yashinoki_man.png)\n",
      "10 さんぴん茶のイラスト (https://www.irasutoya.com/2019/08/blog-post_427.html thumb=https://blogger.googleusercontent.com/img/b/R29vZ2xl/AVvXsEgkFUgzk-xgnHlnKtcL5x_ALLNixEOoWDkO_gH7-tSAF5O0AaYwzAlzR30beLYqr_k80uzrBC95K7vkt2YIraVDGz9Bqj6KD372n4k07ukwKRb8-g5QC8mQWTQdiEYyXWpDyplO3GPST9U-/s72-c/drink_tea_sanpincha.png)\n",
      "11 プルメリアのレイのイラスト (https://www.irasutoya.com/2019/08/blog-post_91.html thumb=https://blogger.googleusercontent.com/img/b/R29vZ2xl/AVvXsEgjMSbu0FucEzgsFuMrB1QAq74W4pj_lHsGosstRqrXIruBp3P_9BiyN1LnW9i3pbHC5cvTCQkXDCOl8bEaHQJq5D0NQp35OiasFr5Mdj9mpYoQZ1gcyl0Ago25khr60is18QvYeAErPa1E/s72-c/lei_flower_plumeria_hawaii.png)\n",
      "12 パーントゥのイラスト (https://www.irasutoya.com/2019/06/blog-post_36.html thumb=https://blogger.googleusercontent.com/img/b/R29vZ2xl/AVvXsEjqMpqFm7O0e3D0rh53SLKHZVdzcTp5p3P7A5eA-_tskczbDo9LXyaOn3MN_YC_tPiXVwMcOmX2xixDuwUIx7tZr7tz6MlH-r3YG0nomiok7Eo6b8ZxiWCIDBx21uQbW8DQtGdv80bvLz2C/s72-c/okinawa_pa-ntou.png)\n",
      "13 ウクレレを弾く人のイラスト（女性） (https://www.irasutoya.com/2019/03/blog-post_23.html thumb=https://blogger.googleusercontent.com/img/b/R29vZ2xl/AVvXsEi2eeMLD0cznwdiHi9Famm4kcV_4RP_fwZUNPg8cnHzKNHyN5OfrfGXbDWOrx9hdaT33-JKj3yJedKicVtZKRGbr6iF_IlAbh4s2gbCPMoXSVXhwJhUykE6K3Yrc0hp3nHcXnly6Rz2fdvq/s72-c/thumbnail_ukulele_woman.jpg)\n",
      "14 ウクレレを弾く人のイラスト（男性） (https://www.irasutoya.com/2019/03/blog-post_45.html thumb=https://blogger.googleusercontent.com/img/b/R29vZ2xl/AVvXsEjY3GSw3wxSuxKx3YOnzAPiam_PYCk5gVenPaGxnnqnl2DVU25yjkQKfSWJ-WOfIsbjJfeFBlviDQ-LdtV5QF8RCIQiTboRATUrulP1s_sW6Q3kDzVcmKNSW98wcvmNGhcLeyHM20hyphenhyphenv9jC/s72-c/thumbnail_ukulele_man.jpg)\n",
      "15 ラッシュガードのイラスト（女性） (https://www.irasutoya.com/2019/01/blog-post_64.html thumb=https://blogger.googleusercontent.com/img/b/R29vZ2xl/AVvXsEgOmdAydS6NS73SUhHIUrieMI5EOEvgH2hRA1p8GdKGgHef__kOyXT58w1Oq3vOzLjHr3JBrRkmKox9J0QjgnuWqsO98ZPgHn1DijopNzRhzwiH5gVYZEiQiuzAQ7qVUm21FgWKRWZy97Ui/s72-c/mizugi_rash_guard_woman.png)\n",
      "16 ラッシュガードのイラスト（男性） (https://www.irasutoya.com/2019/01/blog-post_74.html thumb=https://blogger.googleusercontent.com/img/b/R29vZ2xl/AVvXsEgOg0JlyGF1v_qBXafjl5l4Nc5-ail79aGLpneNIHwFRtB4MDQKsGpyoodUuNPRhcdobZDNVSXvWHCKX5KpBFETVX8g7XqIjA6n5LBl4KSQEP2d9fKJQVbUNcL0eDpblBb8I4C-6OTtR1_y/s72-c/mizugi_rash_guard_man.png)\n",
      "17 さんぐゎーのイラスト (https://www.irasutoya.com/2018/12/blog-post_820.html thumb=https://blogger.googleusercontent.com/img/b/R29vZ2xl/AVvXsEixAdvRHlu6FjLhyphenhyphenwYfm6304tgsVizlgNt3kuJvmfKnKpG3D_oC5TXSLCekFnCWVdx9SSC09LBgnLB7cwv7ztQWdqDh-_uZGl4z3DQ9axo1EgaxvmeS9ci-NQ_Rh_7CjsXvtu6Hk_Kitcto/s72-c/okinawa_omamori_sanguwa-.png)\n",
      "18 モンガラカワハギのイラスト (https://www.irasutoya.com/2018/12/blog-post_86.html thumb=https://blogger.googleusercontent.com/img/b/R29vZ2xl/AVvXsEhO0jOSWH2jk-rLKs9AWnz4pfF-qGT9mMyAAvbooR8jpgR944oblmoqlfVoWadTrH1ckDwgbOR1I223GKogKfL0oHkt754L8FToBHwJbcu6GGO4xsEEu51Llrg0Q83u7XLRQRK4rUmNDGq0/s72-c/fish_mongara_kawahagi.png)\n",
      "19 ウォーターボールのイラスト (https://www.irasutoya.com/2018/04/blog-post_673.html thumb=https://blogger.googleusercontent.com/img/b/R29vZ2xl/AVvXsEhUw2RalY3y9q-SnE7a7pIZzQAZnVP0g23nMWT8omlS9p_KgxIhVf2qZyMEm1MULls77gaBd_RyQ7_U26fvK4mXbaQAuXL6m-0iQuQ6vmu5DpoI7G2cCw3RQW6hzeslBJt2wzHhAEJJ5fo/s72-c/ocean_water_ball.png)\n",
      "20 ダイビングをする人のイラスト（女性） (https://www.irasutoya.com/2018/04/blog-post_843.html thumb=https://blogger.googleusercontent.com/img/b/R29vZ2xl/AVvXsEjNN3wbI6W-rrB95fHWBtfTm6wqZbitDtKtK0zg3cFXcnD9mYZQx2viilhBRNnnFoccc4SBo1uqbYXQkE_vCV6JAtPV64vO7awlC-uFS2WV396l9nV2KZGyk3UiDP4cBc51nxARDHLl-3Fe/s72-c/swimming_wetsuit_woman_diving_left.png)\n",
      "<a class=\"blog-pager-older-link\" href=\"https://www.irasutoya.com/search/label/%E5%8D%97%E5%9B%BD?updated-max=2018-04-16T13:00:00%2B09:00&amp;max-results=20&amp;start=20&amp;by-date=false\" id=\"Blog1_blog-pager-older-link\" title=\"前の投稿\"><span class=\"navibtn\">次のページ</span><img alt=\"次のページ\" src=\"https://2.bp.blogspot.com/--aA9Gm23l-A/UdTLcN8RG9I/AAAAAAAAV3o/LirPMk0d8JE/s170/navigation_next.png\"/></a>\n",
      "Next page url: https://www.irasutoya.com/search/label/%E5%8D%97%E5%9B%BD?updated-max=2018-04-16T13:00:00%2B09:00&max-results=20&start=20&by-date=false\n"
     ]
    }
   ],
   "source": [
    "#contents = doc.select(\"#main #Blog1 .blog-posts.hfeed .date-outer\")  # -> this results in fewer results?\n",
    "contents = doc.select(\"#post\")\n",
    "print(\"#content=\", len(contents))\n",
    "for ic, c in enumerate(contents):\n",
    "    #print(c.select_one(\"#post > .boxmeta\"))\n",
    "    #t = getattr(c.select_one(\"#post > .boxmeta > h2 > a\"), 'text', \"\")\n",
    "    a = c.select_one(\".boxmeta > h2 > a\")\n",
    "    t = getattr(a, 'text', \"\")\n",
    "    url = a['href']\n",
    "    # grab thumbnail (small size)\n",
    "    thumb_url = None\n",
    "    boxim = str(c.select_one(\".boxim\"))\n",
    "    m = re.search(r\"document\\.write\\(bp_thumbnail_resize\\(\\\"(.+)\\\",\", boxim)\n",
    "    if m:\n",
    "        thumb_url = m.group(1)\n",
    "    \n",
    "    print(\"{:01d} {} ({} thumb={})\".format(ic+1, t, url, thumb_url))\n",
    "\n",
    "nav_e = doc.select_one(\"#navigation #blog-pager\")\n",
    "next_pg_es = nav_e.select(\"#blog-pager-older-link a.blog-pager-older-link\")\n",
    "if len(next_pg_es) == 0:\n",
    "    home_e = nav_e.select_one(\"#home-link .home-link .navibtn\")\n",
    "    assert home_e is not None\n",
    "else:\n",
    "    assert len(next_pg_es) in [1, 2]\n",
    "    for next_pg_e in next_pg_es:\n",
    "        im_e = next_pg_e.select_one(\":scope > img[alt]\")\n",
    "        print(next_pg_e)\n",
    "        if im_e['alt'] == \"次のページ\":\n",
    "            print(\"Next page url:\", next_pg_e['href'])"
   ]
  },
  {
   "cell_type": "code",
   "execution_count": 81,
   "id": "3d14a496-7365-4002-afef-096c0757df49",
   "metadata": {},
   "outputs": [
    {
     "ename": "KeyError",
     "evalue": "0",
     "output_type": "error",
     "traceback": [
      "\u001b[0;31m---------------------------------------------------------------------------\u001b[0m",
      "\u001b[0;31mKeyError\u001b[0m                                  Traceback (most recent call last)",
      "Cell \u001b[0;32mIn[81], line 1\u001b[0m\n\u001b[0;32m----> 1\u001b[0m \u001b[43mnext_pg_es\u001b[49m\u001b[43m[\u001b[49m\u001b[38;5;241;43m0\u001b[39;49m\u001b[43m]\u001b[49m\n",
      "File \u001b[0;32m~/projects/irasutoya/.venv/lib/python3.9/site-packages/bs4/element.py:1573\u001b[0m, in \u001b[0;36mTag.__getitem__\u001b[0;34m(self, key)\u001b[0m\n\u001b[1;32m   1570\u001b[0m \u001b[38;5;28;01mdef\u001b[39;00m \u001b[38;5;21m__getitem__\u001b[39m(\u001b[38;5;28mself\u001b[39m, key):\n\u001b[1;32m   1571\u001b[0m \u001b[38;5;250m    \u001b[39m\u001b[38;5;124;03m\"\"\"tag[key] returns the value of the 'key' attribute for the Tag,\u001b[39;00m\n\u001b[1;32m   1572\u001b[0m \u001b[38;5;124;03m    and throws an exception if it's not there.\"\"\"\u001b[39;00m\n\u001b[0;32m-> 1573\u001b[0m     \u001b[38;5;28;01mreturn\u001b[39;00m \u001b[38;5;28;43mself\u001b[39;49m\u001b[38;5;241;43m.\u001b[39;49m\u001b[43mattrs\u001b[49m\u001b[43m[\u001b[49m\u001b[43mkey\u001b[49m\u001b[43m]\u001b[49m\n",
      "\u001b[0;31mKeyError\u001b[0m: 0"
     ]
    }
   ],
   "source": [
    "next_pg_es[0]"
   ]
  },
  {
   "cell_type": "markdown",
   "id": "b6c8b61e-eab6-4625-b7b7-5761603c0a6b",
   "metadata": {},
   "source": [
    "## 3. irasuto"
   ]
  },
  {
   "cell_type": "code",
   "execution_count": 55,
   "id": "108d4c5f-92da-45fb-9a6b-8b742d26cac8",
   "metadata": {},
   "outputs": [],
   "source": [
    "resp = requests.get(\"https://www.irasutoya.com/2024/04/blog-post_16.html\")\n",
    "doc = BeautifulSoup(resp.content.decode('utf-8'), 'html.parser')"
   ]
  },
  {
   "cell_type": "code",
   "execution_count": 71,
   "id": "23bc08c0-2de2-479a-bdf7-639614e6a1dc",
   "metadata": {},
   "outputs": [
    {
     "data": {
      "text/plain": [
       "{'title': '\\n\\nギャルピースのイラスト\\n\\n',\n",
       " 'im_url': 'https://blogger.googleusercontent.com/img/b/R29vZ2xl/AVvXsEg48GxlSXF_4b4XZmtOALPhe3mD5iREyN-Ks6Q2hdviWeDHOcG_AUOS3nn2i-E9g5jD1_7-2o9PZF5MUQEanceM7b07viAr9M6h4C7jDqGhKdF0LzHzn2IBS_A2Fvpv605wIRf9ohIPiv-HStNDjk8JdN2hU-0GTI-OsjRraMo1HnGkTALf6v7qBbHufj04/s776/pose_galpeace_schoolgirl.png',\n",
       " 'im_thumb_url': 'https://blogger.googleusercontent.com/img/b/R29vZ2xl/AVvXsEg48GxlSXF_4b4XZmtOALPhe3mD5iREyN-Ks6Q2hdviWeDHOcG_AUOS3nn2i-E9g5jD1_7-2o9PZF5MUQEanceM7b07viAr9M6h4C7jDqGhKdF0LzHzn2IBS_A2Fvpv605wIRf9ohIPiv-HStNDjk8JdN2hU-0GTI-OsjRraMo1HnGkTALf6v7qBbHufj04/s400/pose_galpeace_schoolgirl.png',\n",
       " 'description': 'ピースポーズを反対側にして前に突き出すポーズ、ギャルピース（ギャルピ）をする女の子のイラストです。',\n",
       " 'tags': ['ポーズ', '学校']}"
      ]
     },
     "execution_count": 71,
     "metadata": {},
     "output_type": "execute_result"
    }
   ],
   "source": [
    "d = {}\n",
    "main_cont = doc.select_one(\"#main #Blog1 #post\")\n",
    "d['title'] = main_cont.select_one(\".title\").text\n",
    "im_e = main_cont.select_one(\".entry .separator a\")\n",
    "d['im_url'] = im_e['href']\n",
    "d['im_thumb_url'] = im_e.select_one('img')['src']\n",
    "\n",
    "sep_es = doc.select(\"#main #Blog1 #post > .entry .separator\")\n",
    "if len(sep_es) != 2:\n",
    "    raise AssertionError(\"Failed to find img description\")\n",
    "d['description'] = sep_es[1].text\n",
    "\n",
    "d['tags'] = []\n",
    "for tag_e in main_cont.select(\".titlemeta .category [rel=tag]\"):\n",
    "    d['tags'].append(tag_e.text)\n",
    "\n",
    "d"
   ]
  },
  {
   "cell_type": "code",
   "execution_count": 67,
   "id": "46555c7b-14cd-4403-9138-c426c1971851",
   "metadata": {},
   "outputs": [
    {
     "data": {
      "text/plain": [
       "[]"
      ]
     },
     "execution_count": 67,
     "metadata": {},
     "output_type": "execute_result"
    }
   ],
   "source": [
    "doc.select(\"#main #Blog1 #post > .entry > .separator\")"
   ]
  },
  {
   "cell_type": "code",
   "execution_count": null,
   "id": "fc3242f1-6fae-4445-91b8-ff441f473418",
   "metadata": {},
   "outputs": [],
   "source": []
  }
 ],
 "metadata": {
  "kernelspec": {
   "display_name": "Python 3 (ipykernel)",
   "language": "python",
   "name": "python3"
  },
  "language_info": {
   "codemirror_mode": {
    "name": "ipython",
    "version": 3
   },
   "file_extension": ".py",
   "mimetype": "text/x-python",
   "name": "python",
   "nbconvert_exporter": "python",
   "pygments_lexer": "ipython3",
   "version": "3.9.6"
  }
 },
 "nbformat": 4,
 "nbformat_minor": 5
}
